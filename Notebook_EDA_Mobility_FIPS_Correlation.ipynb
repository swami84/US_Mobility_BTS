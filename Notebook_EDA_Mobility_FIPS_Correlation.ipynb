{
 "cells": [
  {
   "cell_type": "markdown",
   "metadata": {},
   "source": [
    "# Rough Notebook to be changed to pct reduction\n",
    "## Last Updated: 10-30-2020"
   ]
  },
  {
   "cell_type": "code",
   "execution_count": 593,
   "metadata": {},
   "outputs": [],
   "source": [
    "# Importing the necessary libraries\n",
    "\n",
    "import pandas as pd\n",
    "import numpy as np\n",
    "import os\n",
    "import seaborn as sns\n",
    "import matplotlib.pyplot as plt\n",
    "import datetime\n",
    "from sklearn.model_selection import train_test_split\n",
    "import json\n",
    "import warnings\n",
    "from os import listdir\n",
    "from os.path import isfile,join\n",
    "import datetime\n",
    "import requests\n",
    "from sklearn.metrics import r2_score, accuracy_score\n",
    "import catboost\n",
    "import matplotlib as mpl\n",
    "import sys\n",
    "sys.path.append('.')\n",
    "from src.utils import collect_data\n",
    "from src.utils import eda\n"
   ]
  },
  {
   "cell_type": "code",
   "execution_count": 594,
   "metadata": {},
   "outputs": [],
   "source": [
    "import importlib\n",
    "importlib.reload(collect_data)\n",
    "collect_datasets = collect_data.DataCollection()\n",
    "data_analysis = eda.DataAnalysis()"
   ]
  },
  {
   "cell_type": "code",
   "execution_count": 595,
   "metadata": {},
   "outputs": [
    {
     "name": "stderr",
     "output_type": "stream",
     "text": [
      "C:\\Work\\projects\\mobility\\US_Mobility_BTS\\src\\utils\\collect_data.py:51: FutureWarning: Series.dt.weekofyear and Series.dt.week have been deprecated.  Please use Series.dt.isocalendar().week instead.\n",
      "  df_mobility['Wk #'] = (df_mobility.date.dt.week.astype(str) ) #+ ' ' + (df_mobility.date.dt.year.astype(str) )\n"
     ]
    }
   ],
   "source": [
    "df_mobility = collect_datasets.get_mobility_data(download=False)\n",
    "df_county_spending = collect_datasets.get_spend_data()\n",
    "df_covid = collect_datasets.combine_covid_data()\n",
    "df_weather = collect_datasets.combine_weather(df_mobility,df_covid)\n",
    "df_county = collect_datasets.combined_county_data()"
   ]
  },
  {
   "cell_type": "code",
   "execution_count": 596,
   "metadata": {},
   "outputs": [],
   "source": [
    "def get_df_2019(df_weather, df_mob,df_covid,df_demographics,year=2019):\n",
    "    df_mob = df_mob.dropna()\n",
    "    thr_date = datetime.datetime.strptime('2020-01-01', '%Y-%m-%d')\n",
    "    if year==2020:\n",
    "        df_mob_prep = pd.merge(left = df_mob, right = df_covid, on = ['fips', 'date'], how='inner')\n",
    "        df_mob_prep = df_mob_prep[df_mob_prep.date <thr_date]\n",
    "    else:\n",
    "        df_mob_prep = df_mob[(df_mob.date < thr_date)]\n",
    "        \n",
    "    df_mob_weather = pd.merge(left = df_mob_prep, right = df_weather, on =['date', 'fips'])\n",
    "\n",
    "    return df_mob_weather"
   ]
  },
  {
   "cell_type": "code",
   "execution_count": 597,
   "metadata": {},
   "outputs": [],
   "source": [
    "df_2019 = get_df_2019(df_weather, df_mobility, df_covid, df_demographics=df_county)\n",
    "df_2019_fil = df_2019[df_2019['State Postal Code'] != 'AK']"
   ]
  },
  {
   "cell_type": "markdown",
   "metadata": {},
   "source": [
    "### Weather Correlation"
   ]
  },
  {
   "cell_type": "code",
   "execution_count": 604,
   "metadata": {},
   "outputs": [],
   "source": [
    "df_2019_fips_corr = df_2019_fil.groupby('fips').corr()"
   ]
  },
  {
   "cell_type": "code",
   "execution_count": 623,
   "metadata": {},
   "outputs": [],
   "source": [
    "df_2019_fips_corr_ = df_2019_fips_corr.reset_index(level=1)\n",
    "cols = df_mobility.columns[7:] # ['trips_per_person','mobility_per_person','pct_stay_home','mobility_per_trip']\n",
    "target_cols = [col for col in df_2019_fips_corr.columns[2:17] if col not in ['Number of Trips 50-100','Number of Trips 100-250',\n",
    "                                                                        'Number of Trips 250-500','Number of Trips >=500']]\n",
    "\n",
    "df_2019_fips_corr_temp = df_2019_fips_corr_[df_2019_fips_corr_.level_1=='FeelsLikeC'][target_cols].reset_index()\n",
    "\n",
    "feelslike_tempC_corr_map = data_analysis.plot_map(target_cols,df_2019_fips_corr_temp,cmap='bwr',q_filter=False)"
   ]
  },
  {
   "cell_type": "code",
   "execution_count": 619,
   "metadata": {},
   "outputs": [],
   "source": [
    "df_2019_fips_corr_ = df_2019_fips_corr.reset_index(level=1)\n",
    "target_cols = [col for col in df_2019_fips_corr.columns[2:17] if col not in ['Number of Trips 50-100','Number of Trips 100-250',\n",
    "                                                                        'Number of Trips 250-500','Number of Trips >=500']]\n",
    "\n",
    "df_2019_fips_corr_sunH = df_2019_fips_corr_[df_2019_fips_corr_.level_1=='sunHour'][target_cols].reset_index()\n",
    "\n",
    "sunhour_tempC_corr_map = data_analysis.plot_map(target_cols,df_2019_fips_corr_sunH,cmap='bwr',q_filter=True, filter_level=[0.005,0.995])"
   ]
  }
 ],
 "metadata": {
  "kernelspec": {
   "display_name": "Python 3",
   "language": "python",
   "name": "python3"
  },
  "language_info": {
   "codemirror_mode": {
    "name": "ipython",
    "version": 3
   },
   "file_extension": ".py",
   "mimetype": "text/x-python",
   "name": "python",
   "nbconvert_exporter": "python",
   "pygments_lexer": "ipython3",
   "version": "3.6.12"
  }
 },
 "nbformat": 4,
 "nbformat_minor": 4
}
