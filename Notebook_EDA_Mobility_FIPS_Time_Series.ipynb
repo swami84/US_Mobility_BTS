{
 "cells": [
  {
   "cell_type": "markdown",
   "metadata": {},
   "source": [
    "# Rough Notebook to be changed to pct reduction\n",
    "## Last Updated: 10-30-2020"
   ]
  },
  {
   "cell_type": "code",
   "execution_count": 1,
   "metadata": {},
   "outputs": [],
   "source": [
    "# Importing the necessary libraries\n",
    "\n",
    "import pandas as pd\n",
    "import numpy as np\n",
    "import os\n",
    "import seaborn as sns\n",
    "import matplotlib.pyplot as plt\n",
    "import datetime\n",
    "from sklearn.model_selection import train_test_split\n",
    "import json\n",
    "import warnings\n",
    "from os import listdir\n",
    "from os.path import isfile,join\n",
    "import datetime\n",
    "import requests\n",
    "from sklearn.metrics import r2_score, accuracy_score\n",
    "import catboost\n",
    "import matplotlib as mpl\n",
    "import sys\n",
    "sys.path.append('.')\n",
    "from src.utils import collect_data\n",
    "from src.utils import eda\n"
   ]
  },
  {
   "cell_type": "code",
   "execution_count": 2,
   "metadata": {},
   "outputs": [],
   "source": [
    "import importlib\n",
    "importlib.reload(collect_data)\n",
    "collect_datasets = collect_data.DataCollection()\n",
    "data_analysis = eda.DataAnalysis()"
   ]
  },
  {
   "cell_type": "code",
   "execution_count": 3,
   "metadata": {},
   "outputs": [
    {
     "name": "stderr",
     "output_type": "stream",
     "text": [
      "C:\\Work\\projects\\mobility\\US_Mobility_BTS\\src\\utils\\collect_data.py:51: FutureWarning: Series.dt.weekofyear and Series.dt.week have been deprecated.  Please use Series.dt.isocalendar().week instead.\n",
      "  df_mobility['Wk #'] = (df_mobility.date.dt.week.astype(str) )\n"
     ]
    }
   ],
   "source": [
    "df_mobility = collect_datasets.get_mobility_data(download=False)\n",
    "df_county_spending = collect_datasets.get_spend_data()\n",
    "df_covid = collect_datasets.combine_covid_data()\n",
    "df_weather = collect_datasets.combine_weather(df_mobility,df_covid)\n",
    "df_county = collect_datasets.combined_county_data()"
   ]
  },
  {
   "cell_type": "code",
   "execution_count": 4,
   "metadata": {},
   "outputs": [],
   "source": [
    "def get_df_2019(df_weather, df_mob,df_covid,df_demographics,year=2019):\n",
    "    df_mob = df_mob.dropna()\n",
    "    thr_date = datetime.datetime.strptime('2020-01-01', '%Y-%m-%d')\n",
    "    if year==2020:\n",
    "        df_mob_prep = pd.merge(left = df_mob, right = df_covid, on = ['fips', 'date'], how='inner')\n",
    "        df_mob_prep = df_mob_prep[df_mob_prep.date <thr_date]\n",
    "    else:\n",
    "        df_mob_prep = df_mob[(df_mob.date < thr_date)]\n",
    "        \n",
    "    df_mob_weather = pd.merge(left = df_mob_prep, right = df_weather, on =['date', 'fips'])\n",
    "\n",
    "    return df_mob_weather"
   ]
  },
  {
   "cell_type": "code",
   "execution_count": 5,
   "metadata": {},
   "outputs": [],
   "source": [
    "df_2019 = get_df_2019(df_weather, df_mobility, df_covid, df_demographics=df_county)\n",
    "df_2019_fil = df_2019[df_2019['State Postal Code'] != 'AK']\n"
   ]
  },
  {
   "cell_type": "markdown",
   "metadata": {},
   "source": [
    "### Time Series"
   ]
  },
  {
   "cell_type": "code",
   "execution_count": 618,
   "metadata": {},
   "outputs": [
    {
     "name": "stderr",
     "output_type": "stream",
     "text": [
      "C:\\Work\\projects\\mobility\\US_Mobility_BTS\\src\\utils\\eda.py:222: SettingWithCopyWarning: \n",
      "A value is trying to be set on a copy of a slice from a DataFrame.\n",
      "Try using .loc[row_indexer,col_indexer] = value instead\n",
      "\n",
      "See the caveats in the documentation: https://pandas.pydata.org/pandas-docs/stable/user_guide/indexing.html#returning-a-view-versus-a-copy\n",
      "  df['id'] = df['id'].astype(int)\n"
     ]
    }
   ],
   "source": [
    "targ_var = 'mobility_per_person'\n",
    "ts_base_map = data_analysis.plot_ts_map(df_2019_fil,targ_var,q_filter=True)"
   ]
  },
  {
   "cell_type": "code",
   "execution_count": null,
   "metadata": {},
   "outputs": [],
   "source": [
    "targ_var = 'trips_per_person'\n",
    "trips_per_person_ts_map = data_analysis.plot_ts_map(df_2019_fil,targ_var,q_filter=True)"
   ]
  }
 ],
 "metadata": {
  "kernelspec": {
   "display_name": "Python 3",
   "language": "python",
   "name": "python3"
  },
  "language_info": {
   "codemirror_mode": {
    "name": "ipython",
    "version": 3
   },
   "file_extension": ".py",
   "mimetype": "text/x-python",
   "name": "python",
   "nbconvert_exporter": "python",
   "pygments_lexer": "ipython3",
   "version": "3.6.12"
  }
 },
 "nbformat": 4,
 "nbformat_minor": 4
}
